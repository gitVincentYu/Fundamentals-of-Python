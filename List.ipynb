{
 "cells": [
  {
   "cell_type": "markdown",
   "metadata": {},
   "source": [
    "## 暫存大量變數的困境"
   ]
  },
  {
   "cell_type": "markdown",
   "metadata": {},
   "source": [
    "需要暫存大量資料的場景隨處可見。"
   ]
  },
  {
   "cell_type": "markdown",
   "metadata": {},
   "source": [
    "中學老師想利用總分幫全班同學排名，第一步就是將全班同學的總分輸入到電腦，再由程式依數值大小排序。在動作辨識領域，研究人員會錄一段動作，可能包含數百至數萬筆資料，最後再由程式萃取訊號中的特徵，最後利用這些特徵幫助動作分類。在自然語言處理領域，研究者可能需要一次讀數篇文章甚至一本書，並利用各辭彙出現的次數以及出現的方式(例如he後面常接is或was，幾乎不會接am)，協助電腦理解人類是如何說話的。"
   ]
  },
  {
   "cell_type": "markdown",
   "metadata": {},
   "source": [
    "在這些情境下，先前學過的賦值方法變得不切實際。就排名的例子而言，若班上有40位同學，就需要40個變數名稱，再寫40行程式碼逐一賦值；以自然語言處理的例子來說，程式設計者甚至根本不知道幾個變數夠用。另一方面，即使能將所有變數賦值完畢，後續利用這些變數也是困難的，因為每個變數對程式來說都是獨立的。若有10個變數分別稱為a~j，則計算它們的總和就得寫成a+b+c+d+e+f+g+h+i+j，效率低落。"
   ]
  },
  {
   "cell_type": "markdown",
   "metadata": {},
   "source": [
    "方法變得不實際。"
   ]
  },
  {
   "cell_type": "markdown",
   "metadata": {},
   "source": [
    "為了解決前述問題，程式語言通常發展出稱為「序列(sequence)」的儲存方式，傳統的程式語言，例如C，以「陣列(array)」完成這類需求；而在Python，則以list解決這類問題。雖然array和list都能解決暫存大量資料的問題，但它們有許多不同之處，不建議將使用array的觀念和經驗直接套用在list上。"
   ]
  },
  {
   "cell_type": "markdown",
   "metadata": {},
   "source": [
    "## 什麼是list?"
   ]
  },
  {
   "cell_type": "markdown",
   "metadata": {},
   "source": [
    "List是Python提供的一種有序資料型態，常用來暫存多筆資料，例如，用一個list來儲存12個月份的天數："
   ]
  },
  {
   "cell_type": "code",
   "execution_count": 20,
   "metadata": {},
   "outputs": [
    {
     "data": {
      "text/plain": [
       "[31, 28, 31, 30, 31, 30, 31, 31, 30, 31, 30, 31]"
      ]
     },
     "execution_count": 20,
     "metadata": {},
     "output_type": "execute_result"
    }
   ],
   "source": [
    "[31, 28, 31, 30, 31, 30, 31, 31, 30, 31, 30, 31]"
   ]
  },
  {
   "cell_type": "markdown",
   "metadata": {},
   "source": [
    "每個元素(element)間要用逗號分開(逗號之後的空格會自動被忽略)，寫完之後用中括弧包住所有元素。一般來說，為了方便之後使用這個List，會幫這個List取名，例如days，其語法就是將前述的list賦值給days變數："
   ]
  },
  {
   "cell_type": "code",
   "execution_count": 21,
   "metadata": {},
   "outputs": [],
   "source": [
    "days = [31, 28, 31, 30, 31, 30, 31, 31, 30, 31, 30, 31]"
   ]
  },
  {
   "cell_type": "markdown",
   "metadata": {},
   "source": [
    "如此一來，當程式設計師每次提到days，直譯器就知道指的是這個list，可執行以下程式碼驗證："
   ]
  },
  {
   "cell_type": "code",
   "execution_count": 22,
   "metadata": {},
   "outputs": [
    {
     "name": "stdout",
     "output_type": "stream",
     "text": [
      "[31, 28, 31, 30, 31, 30, 31, 31, 30, 31, 30, 31]\n"
     ]
    }
   ],
   "source": [
    "print(days)"
   ]
  },
  {
   "cell_type": "markdown",
   "metadata": {},
   "source": [
    "如果只要取list中的其中一個元素，則可以使用days[index]來取值，其中index代表「第幾個元素」。需要注意的是，List從0開始編號，所以days[0]是31，days[1]是28，days[11]是31，以此類推。或許有人會好奇days[12]會是什麼？可以自己試試看XD"
   ]
  },
  {
   "cell_type": "markdown",
   "metadata": {},
   "source": [
    "## List超彈性！"
   ]
  },
  {
   "cell_type": "markdown",
   "metadata": {},
   "source": [
    "List中各元素的值可任意修改。就先前的例子，如果遇到閏年，則2月就應該改成29天，可以這樣修改："
   ]
  },
  {
   "cell_type": "code",
   "execution_count": 23,
   "metadata": {},
   "outputs": [],
   "source": [
    "days[1] = 29"
   ]
  },
  {
   "cell_type": "markdown",
   "metadata": {},
   "source": [
    "如此一來，原先list中的第二個元素會變成29，其餘元素不變。"
   ]
  },
  {
   "cell_type": "code",
   "execution_count": 24,
   "metadata": {},
   "outputs": [
    {
     "name": "stdout",
     "output_type": "stream",
     "text": [
      "[31, 29, 31, 30, 31, 30, 31, 31, 30, 31, 30, 31]\n"
     ]
    }
   ],
   "source": [
    "print(days)"
   ]
  },
  {
   "cell_type": "markdown",
   "metadata": {},
   "source": [
    "list這種可任意修改元素的特性被稱為mutable，在Python中還存在著不可任意修改元素(immutable)的資料結構，稱為tuple，之後的課程會提到。"
   ]
  },
  {
   "cell_type": "markdown",
   "metadata": {},
   "source": [
    "除了修改元素值之外，list還可以任意新增或是移除元素。例如，若要在days末端增加一個元素來代表「第十三個月」的天數，假設是50天，可用days.append(50)；若要在days末端移除一個元素，則使用days.pop()。可執行以下程式來驗證："
   ]
  },
  {
   "cell_type": "code",
   "execution_count": 25,
   "metadata": {},
   "outputs": [
    {
     "name": "stdout",
     "output_type": "stream",
     "text": [
      "[31, 29, 31, 30, 31, 30, 31, 31, 30, 31, 30, 31]\n",
      "[31, 29, 31, 30, 31, 30, 31, 31, 30, 31, 30, 31, 50]\n",
      "[31, 29, 31, 30, 31, 30, 31, 31, 30, 31, 30, 31]\n"
     ]
    }
   ],
   "source": [
    "print(days)\n",
    "days.append(50)\n",
    "print(days)\n",
    "days.pop()\n",
    "print(days)"
   ]
  },
  {
   "cell_type": "markdown",
   "metadata": {},
   "source": [
    "某些情況下，例如想合併兩個list，list1和list2，則逐一將list2的元素新增到list1末端較沒效率，此時可使用以下兩種語法合併兩個list："
   ]
  },
  {
   "cell_type": "code",
   "execution_count": 26,
   "metadata": {},
   "outputs": [
    {
     "name": "stdout",
     "output_type": "stream",
     "text": [
      "['h', 'e', 'l', 'l', 'o']\n"
     ]
    }
   ],
   "source": [
    "list1 = ['h', 'e']\n",
    "list2 = ['l', 'l', 'o']\n",
    "list1.extend(list2)\n",
    "print(list1)"
   ]
  },
  {
   "cell_type": "markdown",
   "metadata": {},
   "source": [
    "或是用「+」"
   ]
  },
  {
   "cell_type": "code",
   "execution_count": 27,
   "metadata": {},
   "outputs": [
    {
     "name": "stdout",
     "output_type": "stream",
     "text": [
      "[1, 2, 3, 4, 5, 6, 7, 8, 9, 10]\n"
     ]
    }
   ],
   "source": [
    "one_to_five = [1, 2, 3, 4, 5]\n",
    "six_to_ten = [6, 7, 8, 9, 10]\n",
    "one_to_ten = one_to_five + six_to_ten\n",
    "print(one_to_ten)"
   ]
  },
  {
   "cell_type": "markdown",
   "metadata": {},
   "source": [
    "眼尖的讀者可能會發現，構成list的基本單位被稱為「元素」而非「數字」，隱含著list的元素不一定要是數字的事實。事實上，一個list中各元素的資料型態(data type)不需要單一(homogeneous)，以下list是合法的，即使在一個list中混和多種資料型態的情形不多見："
   ]
  },
  {
   "cell_type": "code",
   "execution_count": 28,
   "metadata": {},
   "outputs": [],
   "source": [
    "# [name, age, country, average GPA]\n",
    "applicant_info = [\"Alice\", 25, \"Taiwan\", 3.7]"
   ]
  },
  {
   "cell_type": "markdown",
   "metadata": {},
   "source": [
    "List中的元素甚至可以是另一個list，稱為nested list："
   ]
  },
  {
   "cell_type": "code",
   "execution_count": 29,
   "metadata": {},
   "outputs": [],
   "source": [
    "matrix_A = [[1, 2, 3], [4, 5, 6], [7, 8, 9]]"
   ]
  },
  {
   "cell_type": "markdown",
   "metadata": {},
   "source": [
    "其中matrix_A[2]代表[7, 8, 9]。"
   ]
  },
  {
   "cell_type": "markdown",
   "metadata": {},
   "source": [
    "## 取值小技巧"
   ]
  },
  {
   "cell_type": "markdown",
   "metadata": {},
   "source": [
    "若要根據某種"
   ]
  },
  {
   "cell_type": "markdown",
   "metadata": {},
   "source": [
    "## 常見片語"
   ]
  },
  {
   "cell_type": "markdown",
   "metadata": {},
   "source": [
    "len()\n",
    "list.sort()\n",
    "更多請見Python tutorial"
   ]
  }
 ],
 "metadata": {
  "kernelspec": {
   "display_name": "Python 3",
   "language": "python",
   "name": "python3"
  },
  "language_info": {
   "codemirror_mode": {
    "name": "ipython",
    "version": 3
   },
   "file_extension": ".py",
   "mimetype": "text/x-python",
   "name": "python",
   "nbconvert_exporter": "python",
   "pygments_lexer": "ipython3",
   "version": "3.6.3"
  }
 },
 "nbformat": 4,
 "nbformat_minor": 2
}
