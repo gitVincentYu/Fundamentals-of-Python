{
 "cells": [
  {
   "cell_type": "markdown",
   "metadata": {},
   "source": [
    "## 為什麼需要串列？"
   ]
  },
  {
   "cell_type": "markdown",
   "metadata": {},
   "source": [
    "#### 暫存大量資料的需求很常見"
   ]
  },
  {
   "cell_type": "markdown",
   "metadata": {},
   "source": [
    "中學老師想利用總分幫全班同學排名，第一步就是將全班同學的總分輸入到電腦，再由程式依數值大小排序。在動作辨識領域，研究人員會錄一段動作，可能包含數百至數萬筆資料，最後再由程式萃取訊號中的特徵，最後利用這些特徵幫助動作分類。在自然語言處理領域，研究者可能需要一次讀數篇文章甚至一本書，並利用各辭彙出現的次數以及出現的方式(例如he後面常接is或was，幾乎不會接am)，協助電腦理解人類是如何說話的。"
   ]
  },
  {
   "cell_type": "markdown",
   "metadata": {},
   "source": [
    "在這些情境下，先前學過的賦值方法變得不切實際。就排名的例子而言，若班上有40位同學，就需要手動賦值40次。以自然語言處理的例子來說，每篇文章字數不同，連需要幾個變數都不能確定。"
   ]
  },
  {
   "cell_type": "markdown",
   "metadata": {},
   "source": [
    "#### 獨立的變數名稱不方便使用"
   ]
  },
  {
   "cell_type": "markdown",
   "metadata": {},
   "source": [
    "即使成功賦值所有變數，由於程式不清楚各變數之間的關聯性，隨之而來的取用、運算都相當不方便。例如，光是計算a~t共20個變數的總和，程式碼就稍嫌冗長"
   ]
  },
  {
   "cell_type": "code",
   "execution_count": null,
   "metadata": {},
   "outputs": [],
   "source": [
    "total = a + b + c + d + e + f + g + h + i + j + k + l + m + n + o + p + q + r + s + t"
   ]
  },
  {
   "cell_type": "markdown",
   "metadata": {},
   "source": [
    "為了解決前述問題，程式語言通常發展出稱為「序列(sequence)」的資料結構，將多個元素(element)依序地存在記憶體中，「次序」就成了這些元素的關係。序列在較早期的程式語言，例如C，被實作為「陣列(array)」，而在Python則實作為「串列(list)」。雖然陣列和串列都會有序地儲存資料，但本質上有許多不同之處，不建議先前學過程式語言的同學將陣列的觀念直接套用在串列上。"
   ]
  },
  {
   "cell_type": "markdown",
   "metadata": {},
   "source": [
    "## 什麼是list?"
   ]
  },
  {
   "cell_type": "markdown",
   "metadata": {},
   "source": [
    "List是Python提供的一種有序資料型態，常用來暫存多筆資料。例如，用一個list來儲存12個月份的天數："
   ]
  },
  {
   "cell_type": "code",
   "execution_count": 23,
   "metadata": {},
   "outputs": [
    {
     "data": {
      "text/plain": [
       "[31, 28, 31, 30, 31, 30, 31, 31, 30, 31, 30, 31]"
      ]
     },
     "execution_count": 23,
     "metadata": {},
     "output_type": "execute_result"
    }
   ],
   "source": [
    "[31, 28, 31, 30, 31, 30, 31, 31, 30, 31, 30, 31]"
   ]
  },
  {
   "cell_type": "markdown",
   "metadata": {},
   "source": [
    "手動輸入所有元素，並以逗號分隔各元素(空格非必要，就算寫了也會被忽略)，最後用中括弧包住所有元素。為方便程式其它部分取用這個list，通常會將其賦值於一個變數，例如days："
   ]
  },
  {
   "cell_type": "code",
   "execution_count": 24,
   "metadata": {},
   "outputs": [],
   "source": [
    "days = [31, 28, 31, 30, 31, 30, 31, 31, 30, 31, 30, 31]"
   ]
  },
  {
   "cell_type": "markdown",
   "metadata": {},
   "source": [
    "如此一來，當程式設計師每次提到days，直譯器就知道指的是這個list，可執行以下程式碼驗證："
   ]
  },
  {
   "cell_type": "code",
   "execution_count": 25,
   "metadata": {},
   "outputs": [
    {
     "name": "stdout",
     "output_type": "stream",
     "text": [
      "[31, 28, 31, 30, 31, 30, 31, 31, 30, 31, 30, 31]\n"
     ]
    }
   ],
   "source": [
    "print(days)"
   ]
  },
  {
   "cell_type": "markdown",
   "metadata": {},
   "source": [
    "若要取用days中某個元素，可用其次序作為索引(index)，置於days後的中括弧中："
   ]
  },
  {
   "cell_type": "code",
   "execution_count": 26,
   "metadata": {},
   "outputs": [
    {
     "name": "stdout",
     "output_type": "stream",
     "text": [
      "31 28 31 30\n",
      "31\n"
     ]
    }
   ],
   "source": [
    "print(days[0], days[1], days[2], days[3])\n",
    "print(days[11])"
   ]
  },
  {
   "cell_type": "markdown",
   "metadata": {},
   "source": [
    "從上面例子不難看出list的索引從0開始編號，最後一個元素的索引值會比元素數量少1。或許有人會好奇days[12]會是什麼？可以自己試試看XD"
   ]
  },
  {
   "cell_type": "markdown",
   "metadata": {},
   "source": [
    "## List有各式各樣的彈性！"
   ]
  },
  {
   "cell_type": "markdown",
   "metadata": {},
   "source": [
    "#### List中各元素的值可任意修改(mutable)。"
   ]
  },
  {
   "cell_type": "markdown",
   "metadata": {},
   "source": [
    "先前的例子如果遇到閏年，則2月就應該改成29天："
   ]
  },
  {
   "cell_type": "code",
   "execution_count": 27,
   "metadata": {},
   "outputs": [],
   "source": [
    "days[1] = 29"
   ]
  },
  {
   "cell_type": "markdown",
   "metadata": {},
   "source": [
    "如此一來，原先list中的第二個元素會變成29，其餘元素不變："
   ]
  },
  {
   "cell_type": "code",
   "execution_count": 28,
   "metadata": {},
   "outputs": [
    {
     "name": "stdout",
     "output_type": "stream",
     "text": [
      "[31, 29, 31, 30, 31, 30, 31, 31, 30, 31, 30, 31]\n"
     ]
    }
   ],
   "source": [
    "print(days)"
   ]
  },
  {
   "cell_type": "markdown",
   "metadata": {},
   "source": [
    "#### List可以任意新增或是移除元素。"
   ]
  },
  {
   "cell_type": "markdown",
   "metadata": {},
   "source": [
    "如果某天政府頒布新的曆法，新增第十三個月，這個月份有15天，則工程師可用list的append幫忙新增\n",
    "例如，若要在days末端增加一個元素來代表「第十三個月」的天數，假設是50天，可用days.append(50)；若要在days末端移除一個元素，則使用days.pop()。可執行以下程式來驗證："
   ]
  },
  {
   "cell_type": "code",
   "execution_count": 29,
   "metadata": {},
   "outputs": [
    {
     "name": "stdout",
     "output_type": "stream",
     "text": [
      "[31, 29, 31, 30, 31, 30, 31, 31, 30, 31, 30, 31]\n",
      "[31, 29, 31, 30, 31, 30, 31, 31, 30, 31, 30, 31, 50]\n",
      "[31, 29, 31, 30, 31, 30, 31, 31, 30, 31, 30, 31]\n"
     ]
    }
   ],
   "source": [
    "print(days)\n",
    "days.append(50)\n",
    "print(days)\n",
    "days.pop()\n",
    "print(days)"
   ]
  },
  {
   "cell_type": "markdown",
   "metadata": {},
   "source": [
    "某些情況下，例如想合併兩個list，list1和list2，則逐一將list2的元素新增到list1末端較沒效率，此時可使用以下兩種語法合併兩個list："
   ]
  },
  {
   "cell_type": "code",
   "execution_count": 30,
   "metadata": {},
   "outputs": [
    {
     "name": "stdout",
     "output_type": "stream",
     "text": [
      "['h', 'e', 'l', 'l', 'o']\n"
     ]
    }
   ],
   "source": [
    "list1 = ['h', 'e']\n",
    "list2 = ['l', 'l', 'o']\n",
    "list1.extend(list2)\n",
    "print(list1)"
   ]
  },
  {
   "cell_type": "markdown",
   "metadata": {},
   "source": [
    "或是用「+」"
   ]
  },
  {
   "cell_type": "code",
   "execution_count": 31,
   "metadata": {},
   "outputs": [
    {
     "name": "stdout",
     "output_type": "stream",
     "text": [
      "[1, 2, 3, 4, 5, 6, 7, 8, 9, 10]\n"
     ]
    }
   ],
   "source": [
    "one_to_five = [1, 2, 3, 4, 5]\n",
    "six_to_ten = [6, 7, 8, 9, 10]\n",
    "one_to_ten = one_to_five + six_to_ten\n",
    "print(one_to_ten)"
   ]
  },
  {
   "cell_type": "markdown",
   "metadata": {},
   "source": [
    "眼尖的讀者可能會發現，構成list的基本單位被稱為「元素」而非「數字」，隱含著list的元素不一定要是數字的事實。事實上，一個list中各元素的資料型態(data type)不需要單一(homogeneous)，以下list是合法的，即使在一個list中混和多種資料型態的情形不多見："
   ]
  },
  {
   "cell_type": "code",
   "execution_count": 32,
   "metadata": {},
   "outputs": [],
   "source": [
    "# [name, age, country, average GPA]\n",
    "applicant_info = [\"Alice\", 25, \"Taiwan\", 3.7]"
   ]
  },
  {
   "cell_type": "markdown",
   "metadata": {},
   "source": [
    "List中的元素甚至可以是另一個list，稱為nested list："
   ]
  },
  {
   "cell_type": "code",
   "execution_count": 33,
   "metadata": {},
   "outputs": [],
   "source": [
    "matrix_A = [[1, 2, 3], [4, 5, 6], [7, 8, 9]]"
   ]
  },
  {
   "cell_type": "markdown",
   "metadata": {},
   "source": [
    "其中matrix_A[2]代表[7, 8, 9]。"
   ]
  },
  {
   "cell_type": "markdown",
   "metadata": {},
   "source": [
    "## 取值小技巧"
   ]
  },
  {
   "cell_type": "markdown",
   "metadata": {},
   "source": [
    "a[::]\n",
    "a[-1]"
   ]
  },
  {
   "cell_type": "markdown",
   "metadata": {},
   "source": [
    "## 常見片語"
   ]
  },
  {
   "cell_type": "markdown",
   "metadata": {},
   "source": [
    "len()\n",
    "list.sort()\n",
    "更多請見Python tutorial"
   ]
  }
 ],
 "metadata": {
  "kernelspec": {
   "display_name": "Python 3",
   "language": "python",
   "name": "python3"
  },
  "language_info": {
   "codemirror_mode": {
    "name": "ipython",
    "version": 3
   },
   "file_extension": ".py",
   "mimetype": "text/x-python",
   "name": "python",
   "nbconvert_exporter": "python",
   "pygments_lexer": "ipython3",
   "version": "3.6.3"
  }
 },
 "nbformat": 4,
 "nbformat_minor": 2
}
